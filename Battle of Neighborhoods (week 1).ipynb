{
    "cells": [
        {
            "cell_type": "markdown",
            "metadata": {
                "collapsed": true
            },
            "source": "# 1. Description and Discussion of Background Issue \n\n  \n\n   ### Board Game Venues \n\n    \n\n## Introduction/Business Problem \n\n  \n\nThis final project will explore the area of Manhattan, New York City, New York combined with latitude and longitude data and utilizing Foursquare API we will group neighborhoods by clusters (using k-means clustering) to determine the best neighborhood in Manhattan, New York City to open a brand new Board Game venue.  New York is a major metropolitan hub and global port, with millions of residents within its city limits.  Manhattan is arguably the heart of New York City, so if I were to open a new store, I'd want it somewhere in that borough. \n\n  \n\nI'm a huge board game nerd and with the creation of Kickstarter (a widely used crowd platform funding site), it seems like board games are experiencing a resurgence (https://www.polygon.com/2020/1/22/21068797/kickstarter-2019-board-games-video-games-tabletop-data-china-tariffs-trump/) & (https://www.pittwire.pitt.edu/news/rise-board-games-today-s-tech-dominated-culture) \n\n  \n\nPeople want to play the new cool and exciting games, but they are costly and take up a lot of storage.  Therefore having a local space nearby that offered all the games and none of the hassle of having to buy or store them yourself would be very easy to manage.  Costs are mostly upfront (needing the space and inventory), however maintainance costs should be quite low.   "
        },
        {
            "cell_type": "markdown",
            "metadata": {},
            "source": "<img src=\"http://cdn.toy-tma.com/wp-content/uploads/2016/08/46153-collection.jpg\"> "
        },
        {
            "cell_type": "markdown",
            "metadata": {},
            "source": "As you can see in the image above, games can take up space and cost money so having a location where people can come enjoy the games they love without having to deal with the hassle of storage or buying for private collection seems like an obvious move.  I also like the idea of having a location to act as a safe space for pretty much all ages.  If you have the space to offer it, I think private rooms to host larger groups are also a great idea.  Charging rental fees and memberships fees could be an easy way to generate income even if you are not moving inventory as quickly.  I'd also plan on having a space for model game builders to sit and build, and you could also rent out tools and paint to aid them in their crafts (again, another hopefully easy way to generate easy profit).  Come the end of the year, you can donate the unopened and unpurchased games to local charities for a tax break, while also freeing up your inventory to procure new items for the next year!   \n\n  \n\n### Target Audience \n\n  \n\n1. Anyone who wants to open their own business or to invest in a new business. \n\n2. Anyone who wants to have a low maintainance cost business that runs with few employees.  \n\n3. Anyone who loves games and wants to see where the best location to open a new venue would be (so they can share their love games, and maybe their perosnal collection). \n\n4. Anyone simply interested in the data, analysis or implementation of the code. "
        },
        {
            "cell_type": "code",
            "execution_count": null,
            "metadata": {},
            "outputs": [],
            "source": ""
        }
    ],
    "metadata": {
        "kernelspec": {
            "display_name": "Python 3.7",
            "language": "python",
            "name": "python3"
        },
        "language_info": {
            "codemirror_mode": {
                "name": "ipython",
                "version": 3
            },
            "file_extension": ".py",
            "mimetype": "text/x-python",
            "name": "python",
            "nbconvert_exporter": "python",
            "pygments_lexer": "ipython3",
            "version": "3.7.9"
        }
    },
    "nbformat": 4,
    "nbformat_minor": 1
}