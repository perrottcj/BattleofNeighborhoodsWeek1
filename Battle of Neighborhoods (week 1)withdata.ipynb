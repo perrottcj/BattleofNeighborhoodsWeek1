{
    "cells": [
        {
            "cell_type": "markdown",
            "metadata": {
                "collapsed": true
            },
            "source": "# 1. Description and Discussion of Background Issue \n\n  \n\n   ### Board Game Venues \n\n    \n\n## Introduction/Business Problem \n\n  \n\nThis final project will explore the area of Manhattan, New York City, New York combined with latitude and longitude data and utilizing Foursquare API we will group neighborhoods by clusters (using k-means clustering) to determine the best neighborhood in Manhattan, New York City to open a brand new Board Game venue.  New York is a major metropolitan hub and global port, with millions of residents within its city limits.  Manhattan is arguably the heart of New York City, so if I were to open a new store, I'd want it somewhere in that borough. \n\n  \n\nI'm a huge board game nerd and with the creation of Kickstarter (a widely used crowd platform funding site), it seems like board games are experiencing a resurgence (https://www.polygon.com/2020/1/22/21068797/kickstarter-2019-board-games-video-games-tabletop-data-china-tariffs-trump/) & (https://www.pittwire.pitt.edu/news/rise-board-games-today-s-tech-dominated-culture) \n\n  \n\nPeople want to play the new cool and exciting games, but they are costly and take up a lot of storage.  Therefore having a local space nearby that offered all the games and none of the hassle of having to buy or store them yourself would be very easy to manage.  Costs are mostly upfront (needing the space and inventory), however maintainance costs should be quite low.   "
        },
        {
            "cell_type": "markdown",
            "metadata": {},
            "source": "<img src=\"http://cdn.toy-tma.com/wp-content/uploads/2016/08/46153-collection.jpg\"> "
        },
        {
            "cell_type": "markdown",
            "metadata": {},
            "source": "As you can see in the image above, games can take up space and cost money so having a location where people can come enjoy the games they love without having to deal with the hassle of storage or buying for private collection seems like an obvious move.  I also like the idea of having a location to act as a safe space for pretty much all ages.  If you have the space to offer it, I think private rooms to host larger groups are also a great idea.  Charging rental fees and memberships fees could be an easy way to generate income even if you are not moving inventory as quickly.  I'd also plan on having a space for model game builders to sit and build, and you could also rent out tools and paint to aid them in their crafts (again, another hopefully easy way to generate easy profit).  Come the end of the year, you can donate the unopened and unpurchased games to local charities for a tax break, while also freeing up your inventory to procure new items for the next year!   \n\n  \n\n### Target Audience \n\n  \n\n1. Anyone who wants to open their own business or to invest in a new business. \n\n2. Anyone who wants to have a low maintainance cost business that runs with few employees.  \n\n3. Anyone who loves games and wants to see where the best location to open a new venue would be (so they can share their love games, and maybe their perosnal collection). \n\n4. Anyone simply interested in the data, analysis or implementation of the code. "
        },
        {
            "cell_type": "markdown",
            "metadata": {},
            "source": "# 2. Data\n\n## For this project, I will be using the following data: \n\n     \n\nNew York City data that contains Borough, Neighborhoods which will be combined with their latitudes and longitudes.  This will contain the required information for the various neighborhoods we will explore in the data set. \n\n     \n\n    http://cocl.us/new_york_dataset \n\n     \n\nFoursquare API which will collect the data for the venues of the neighborhoods which we will further explore by filtering for only the venues we want. \n\n  \n\n## Foursquare Venue Category \n\n  \n\nObtained at https://developer.foursquare.com/docs/build-with-foursquare/categories/ \n\n  \n\nGame / Toy Store \u2013 4bf58dd8d48988d1f3941735 "
        },
        {
            "cell_type": "markdown",
            "metadata": {},
            "source": "# The Approach\n\n1. We will begin by collecting the data from the above dataset: http://cocl.us/new_york_dataset\n\n2. We will then clean up the data for future merging.\n\n2. We will verify and utilize our Foursquare API to get the venue data (because of my limited account access to Foursquare's API, we will be looking at the top 100 venues around Manhattan).\n\n3. We will then filter out the venues to find the top game stores in Manhattan. (They are our competitors and therefore the ones I want to focus on.)\n\n4. We'll use some data visualization and analysis, using \"k-means clustering\" - we will cluster the neighborhoods visually on a folium map.\n\n5. We'll compare the neighborhood data to find the best location to open a new venue (In my opinion, we will want a location nearby the neighborhood with the biggest mean of Game Stores in the area because if they are in the top 100 venues of Manhattan, they must be doing something right and that begins with location!  We want to be a competitor, so we will try to find a neighborhood with a smaller mean of Game Stores that is nearby the neighborhood with the biggest mean). \n\n6. We'll discuss the results and conclusions. "
        }
    ],
    "metadata": {
        "kernelspec": {
            "display_name": "Python 3.7",
            "language": "python",
            "name": "python3"
        },
        "language_info": {
            "codemirror_mode": {
                "name": "ipython",
                "version": 3
            },
            "file_extension": ".py",
            "mimetype": "text/x-python",
            "name": "python",
            "nbconvert_exporter": "python",
            "pygments_lexer": "ipython3",
            "version": "3.7.9"
        }
    },
    "nbformat": 4,
    "nbformat_minor": 1
}